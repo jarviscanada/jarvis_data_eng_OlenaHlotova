﻿{
  "metadata": {
    "name": "Jarvis Hive Project",
    "kernelspec": {
      "language": "scala",
      "name": "spark2-scala"
    },
    "language_info": {
      "codemirror_mode": "text/x-scala",
      "file_extension": ".scala",
      "mimetype": "text/x-scala",
      "name": "scala",
      "pygments_lexer": "scala"
    }
  },
  "nbformat": 4,
  "nbformat_minor": 2,
  "cells": [
    {
      "cell_type": "markdown",
      "metadata": {},
      "source": "# Query GC data\n- Create a hive table(\u0027wdi_gs\u0027) against the gs wdi_2016 data.\n- Count number of rows from the wdi_gs table"
    },
    {
      "cell_type": "code",
      "execution_count": 1,
      "metadata": {
        "autoscroll": "auto"
      },
      "outputs": [],
      "source": "DROP TABLE IF EXISTS wdi_gs"
    },
    {
      "cell_type": "code",
      "execution_count": 2,
      "metadata": {
        "autoscroll": "auto"
      },
      "outputs": [],
      "source": "CREATE EXTERNAL TABLE wdi_gs\n(year INTEGER, countryName STRING, countryCode STRING, indicatorName STRING, indicatorCode STRING, indicatorValue FLOAT)\nROW FORMAT DELIMITED FIELDS TERMINATED BY \u0027,\u0027 LINES TERMINATED BY \u0027\\n\u0027\nLOCATION \u0027gs://jrvs-data-eng-olena/datasets/wdi_2016\u0027\nTBLPROPERTIES (\"skip.header.line.count\"\u003d\"1\")"
    },
    {
      "cell_type": "code",
      "execution_count": 3,
      "metadata": {
        "autoscroll": "auto"
      },
      "outputs": [],
      "source": "DESCRIBE FORMATTED wdi_gs"
    },
    {
      "cell_type": "code",
      "execution_count": 4,
      "metadata": {
        "autoscroll": "auto"
      },
      "outputs": [],
      "source": "SELECT count(countryName) FROM wdi_gs"
    },
    {
      "cell_type": "code",
      "execution_count": 5,
      "metadata": {
        "autoscroll": "auto"
      },
      "outputs": [],
      "source": "DROP TABLE IF EXISTS wdi_csv_text;"
    },
    {
      "cell_type": "code",
      "execution_count": 6,
      "metadata": {
        "autoscroll": "auto"
      },
      "outputs": [],
      "source": "CREATE EXTERNAL TABLE wdi_csv_text\r\n(year INTEGER, countryName STRING, countryCode STRING, indicatorName STRING, indicatorCode STRING, indicatorValue FLOAT)\r\nROW FORMAT DELIMITED FIELDS TERMINATED BY \u0027,\u0027 LINES TERMINATED BY \u0027\\n\u0027\r\nLOCATION \u0027hdfs:///user/olena/hive/wdi/wdi_csv_text\u0027;"
    },
    {
      "cell_type": "code",
      "execution_count": 7,
      "metadata": {
        "autoscroll": "auto"
      },
      "outputs": [],
      "source": "INSERT OVERWRITE TABLE wdi_csv_text\r\nSELECT * FROM wdi_gs"
    },
    {
      "cell_type": "code",
      "execution_count": 8,
      "metadata": {
        "autoscroll": "auto"
      },
      "outputs": [],
      "source": "SELECT count(countryName) FROM wdi_csv_text"
    },
    {
      "cell_type": "code",
      "execution_count": 9,
      "metadata": {
        "autoscroll": "auto"
      },
      "outputs": [],
      "source": "SELECT count(countryName) FROM wdi_csv_text\n--comparing runtime calling it twice\n--cached data is gathered faster"
    },
    {
      "cell_type": "markdown",
      "metadata": {},
      "source": "# Hive vs Bash\nWe cleared the caches and execures the query.\nEvery next query will take less time comparing to the first execution (data is gathered from cache)\n\n* Bash is faster than Hive\n* Hive need to load the files from nodes into the Hive tables. Then it can perform Tez tasks with YARN\n* Bash can access and perform operations with local files"
    },
    {
      "cell_type": "code",
      "execution_count": 11,
      "metadata": {
        "autoscroll": "auto"
      },
      "outputs": [],
      "source": "%sh\n#SSH to master node\ncd ~\nhdfs  dfs -get  hdfs:///user/olena/hive/wdi/wdi_csv_text .\ncd wdi_csv_text\n#calculate current directory size\ndu -ch .\n#1.8G\ttotal\n\n#clear fs cache\necho 3 | sudo tee /proc/sys/vm/drop_caches\n#bash row count\ndate +%s \u0026\u0026 cat * | wc \u0026\u0026 date +%s\n"
    },
    {
      "cell_type": "markdown",
      "metadata": {},
      "source": "# Parsing Issues\n* Delimiters (such as commas) can produce unexpected/unwanted results\nTo check if there are unwanted delimiters in the data, import the data again, without delimiting the fields\n"
    },
    {
      "cell_type": "code",
      "execution_count": 13,
      "metadata": {
        "autoscroll": "auto"
      },
      "outputs": [],
      "source": "SELECT distinct(indicatorcode)\nFROM wdi_csv_text\nORDER BY indicatorcode\nLIMIT 20;\n"
    },
    {
      "cell_type": "code",
      "execution_count": 14,
      "metadata": {
        "autoscroll": "auto"
      },
      "outputs": [],
      "source": "DROP TABLE IF EXISTS wdi_gs_debug;"
    },
    {
      "cell_type": "code",
      "execution_count": 15,
      "metadata": {
        "autoscroll": "auto"
      },
      "outputs": [],
      "source": "--creating a debug table to display entire rows, instead of separate the data into columns\nCREATE EXTERNAL TABLE wdi_gs_debug\n(line STRING)\nLOCATION \u0027gs://jrvs-data-eng-olena/datasets/wdi_2016\u0027"
    },
    {
      "cell_type": "code",
      "execution_count": 16,
      "metadata": {
        "autoscroll": "auto"
      },
      "outputs": [],
      "source": "--show all lines with wrong indicator\nSELECT DISTINCT(line) FROM wdi_gs_debug\nWHERE line like \"%\\(\\% of urban population\\)\\\"%\""
    },
    {
      "cell_type": "markdown",
      "metadata": {},
      "source": "## Table with OpenCSV SerDe\nThe OpenCSV SerDe can solve the parsing problem. Hovewer, it will treat all column\u0027s data as STRING"
    },
    {
      "cell_type": "code",
      "execution_count": 18,
      "metadata": {
        "autoscroll": "auto"
      },
      "outputs": [],
      "source": "DROP TABLE IF EXISTS wdi_opencsv_gs;\nCREATE EXTERNAL TABLE wdi_opencsv_gs\n(year STRING, countryName STRING, countryCode STRING, indicatorName STRING, indicatorCode STRING, indicatorValue STRING)\nROW FORMAT SERDE \u0027org.apache.hadoop.hive.serde2.OpenCSVSerde\u0027\nLOCATION \u0027gs://jrvs-data-eng-olena/datasets/wdi_2016\u0027\nTBLPROPERTIES (\"skip.header.line.count\" \u003d \"1\")"
    },
    {
      "cell_type": "code",
      "execution_count": 19,
      "metadata": {
        "autoscroll": "auto"
      },
      "outputs": [],
      "source": "DROP TABLE IF EXISTS wdi_opencsv_text;\nCREATE EXTERNAL TABLE wdi_opencsv_text\n(year STRING, countryName STRING, countryCode STRING, indicatorName STRING, indicatorCode STRING, indicatorValue STRING)\nROW FORMAT SERDE \u0027org.apache.hadoop.hive.serde2.OpenCSVSerde\u0027\nLOCATION \u0027hdfs:///user/olena/hive/wdi/wdi_opencsv_text\u0027"
    },
    {
      "cell_type": "code",
      "execution_count": 20,
      "metadata": {
        "autoscroll": "auto"
      },
      "outputs": [],
      "source": "INSERT OVERWRITE TABLE wdi_opencsv_text\nSELECT * FROM wdi_opencsv_gs"
    },
    {
      "cell_type": "code",
      "execution_count": 21,
      "metadata": {
        "autoscroll": "auto"
      },
      "outputs": [],
      "source": "SELECT distinct(indicatorcode) \nFROM wdi_opencsv_text\nORDER BY indicatorcode"
    },
    {
      "cell_type": "code",
      "execution_count": 22,
      "metadata": {
        "autoscroll": "auto"
      },
      "outputs": [],
      "source": "SELECT COUNT(countryName) FROM wdi_opencsv_text"
    },
    {
      "cell_type": "code",
      "execution_count": 23,
      "metadata": {
        "autoscroll": "auto"
      },
      "outputs": [],
      "source": "SELECT count(countryName) FROM wdi_csv_text"
    },
    {
      "cell_type": "markdown",
      "metadata": {},
      "source": "# OpenCSVSerde Limitation\nOpenCSVSerde comes with some limintations. One of them is the way Serde treats all data in columns as String (even if the data in the csv is a non-string). To solve it, we need to create a view and cast string columns as other datatypes."
    },
    {
      "cell_type": "code",
      "execution_count": 25,
      "metadata": {
        "autoscroll": "auto"
      },
      "outputs": [],
      "source": "DESCRIBE FORMATTED wdi_opencsv_text\n"
    },
    {
      "cell_type": "code",
      "execution_count": 26,
      "metadata": {
        "autoscroll": "auto"
      },
      "outputs": [],
      "source": "DESCRIBE FORMATTED wdi_csv_text"
    },
    {
      "cell_type": "code",
      "execution_count": 27,
      "metadata": {
        "autoscroll": "auto"
      },
      "outputs": [],
      "source": "DROP VIEW IF EXISTS wdi_opencsv_text_view"
    },
    {
      "cell_type": "code",
      "execution_count": 28,
      "metadata": {
        "autoscroll": "auto"
      },
      "outputs": [],
      "source": "CREATE VIEW IF NOT EXISTS wdi_opencsv_text_view\r\nAS\r\nSELECT CAST(year AS INTEGER), countryName, countryCode, indicatorName, indicatorCode, CAST(indicatorValue AS FLOAT)\r\nFROM wdi_opencsv_text"
    },
    {
      "cell_type": "code",
      "execution_count": 29,
      "metadata": {
        "autoscroll": "auto"
      },
      "outputs": [],
      "source": "DESCRIBE FORMATTED wdi_opencsv_text_view"
    },
    {
      "cell_type": "markdown",
      "metadata": {},
      "source": "# 2015 Canada GDP Growth HQL"
    },
    {
      "cell_type": "code",
      "execution_count": 31,
      "metadata": {
        "autoscroll": "auto"
      },
      "outputs": [],
      "source": "-- find 2015 Canada GDP growth\nSELECT indicatorValue AS GDP_growth_value, year, countryName\nFROM wdi_opencsv_text_view\nWHERE indicatorName LIKE \"%GDP growth%\" AND year \u003d 2015 AND countryName \u003d \"Canada\"\n"
    },
    {
      "cell_type": "markdown",
      "metadata": {},
      "source": "The runtime is slow (1 min 32 sec.) because we are going through each row ina huge dataset to find matches, so it will take O(n) time. \nTo optimize it, partitioning and bucketing of the table can be used. It will help us to go through less data to get our results."
    },
    {
      "cell_type": "markdown",
      "metadata": {},
      "source": "# Hive Partitions"
    },
    {
      "cell_type": "code",
      "execution_count": 34,
      "metadata": {
        "autoscroll": "auto"
      },
      "outputs": [],
      "source": "\nDROP TABLE IF EXISTS ;\n\nCREATE EXTERNAL TABLE wdi_opencsv_text_partitions\n(countryName STRING, countryCode STRING, indicatorName STRING, indicatorCode STRING, indicatorValue FLOAT)\nPARTITIONED BY (year INTEGER)\nROW FORMAT SERDE \u0027org.apache.hadoop.hive.serde2.OpenCSVSerde\u0027\nLOCATION \u0027hdfs:///user/olena/hive/wdi/wdi_opencsv_text_partitions\u0027\n"
    },
    {
      "cell_type": "markdown",
      "metadata": {},
      "source": "* To avoid the fatal error raised, when there are too many dynamic partitions created we need to group the rows by the dynamic partition columns in the mapper\nand distribute them to the reducers where the dynamic partitions will be created. In this case the number of distinct dynamic partitions will be significantly reduced. "
    },
    {
      "cell_type": "code",
      "execution_count": 36,
      "metadata": {
        "autoscroll": "auto"
      },
      "outputs": [],
      "source": "SET hive.exec.dynamic.partition.mode\u003dnonstrict;\nINSERT OVERWRITE TABLE wdi_opencsv_text_partitions PARTITION (year)\nSELECT countryName, countryCode, indicatorName, indicatorCode, indicatorValue, year FROM wdi_opencsv_text\n"
    },
    {
      "cell_type": "code",
      "execution_count": 37,
      "metadata": {
        "autoscroll": "auto"
      },
      "outputs": [],
      "source": "SELECT indicatorValue AS GDP_growth_value, year, countryName\nFROM wdi_opencsv_text_partitions\nWHERE indicatorName LIKE \"%GDP growth%\" AND year \u003d 2015 AND countryName \u003d \"Canada\""
    },
    {
      "cell_type": "markdown",
      "metadata": {},
      "source": "Using partitioning we managed to achieve 4 times faster execution (23 sec.) time. It happened because we splitted the data into partitions that contain what we need,\nand no longer need to through all data at once."
    },
    {
      "cell_type": "markdown",
      "metadata": {},
      "source": "# Columnar File Optimization"
    },
    {
      "cell_type": "code",
      "execution_count": 40,
      "metadata": {
        "autoscroll": "auto"
      },
      "outputs": [],
      "source": "DROP TABLE IF EXISTS wdi_csv_parquet;\n\nCREATE EXTERNAL TABLE wdi_csv_parquet\n(year INT, countryName STRING, countryCode STRING, indicatorName STRING, indicatorCode STRING, indicatorValue FLOAT)\nSTORED AS PARQUET\nLOCATION \u0027hdfs:///user/olena/hive/wdi/wdi_csv_parquet\u0027\n\n"
    },
    {
      "cell_type": "code",
      "execution_count": 41,
      "metadata": {
        "autoscroll": "auto"
      },
      "outputs": [],
      "source": "INSERT OVERWRITE TABLE wdi_csv_parquet\nSELECT * FROM wdi_opencsv_gs"
    },
    {
      "cell_type": "code",
      "execution_count": 42,
      "metadata": {
        "autoscroll": "auto"
      },
      "outputs": [],
      "source": "%sh\nhdfs dfs -du -h /user/olena/hive/wdi/wdi_csv_parquet\nhdfs dfs -du -h /user/olena/hive/wdi/wdi_opencsv_text"
    },
    {
      "cell_type": "code",
      "execution_count": 43,
      "metadata": {
        "autoscroll": "auto"
      },
      "outputs": [],
      "source": "SELECT count(countryName) FROM wdi_csv_parquet"
    },
    {
      "cell_type": "code",
      "execution_count": 44,
      "metadata": {
        "autoscroll": "auto"
      },
      "outputs": [],
      "source": "SELECT count(countryName) FROM wdi_opencsv_text"
    },
    {
      "cell_type": "code",
      "execution_count": 45,
      "metadata": {
        "autoscroll": "auto"
      },
      "outputs": [],
      "source": "SELECT indicatorValue AS GDP_growth_value, year, countryName\nFROM wdi_csv_parquet\nWHERE indicatorName LIKE \"%GDP growth%\" AND year \u003d 2015 AND countryName \u003d \"Canada\""
    },
    {
      "cell_type": "code",
      "execution_count": 46,
      "metadata": {
        "autoscroll": "auto"
      },
      "outputs": [],
      "source": "SELECT indicatorValue AS GDP_growth_value, year, countryName\nFROM wdi_opencsv_text\nWHERE indicatorName LIKE \"%GDP growth%\" AND year \u003d 2015 AND countryName \u003d \"Canada\""
    },
    {
      "cell_type": "markdown",
      "metadata": {},
      "source": "The wdi_csv_parquet table is smaller (approx. 20 times) than the wdi_opencsv_text table. It was achieved because we used columnar file (it stores data by columns rather than by rows).\nCreated columnar database can write and read more efficiently from the hard disk storage.\n\nThe columnar file optimizations reduced the runtime of all our querries by 3 times. \nThis happened because we only need to check a single column with needed information and not each entry in the table."
    },
    {
      "cell_type": "markdown",
      "metadata": {},
      "source": "# Highest GDP Growth"
    },
    {
      "cell_type": "code",
      "execution_count": 49,
      "metadata": {
        "autoscroll": "auto"
      },
      "outputs": [],
      "source": "-- Hive Tez query\nSELECT distinct t1.indicatorValue as GDP_growth_value, t1.year, t1.countryName\nFROM wdi_csv_parquet t1\nINNER JOIN (\n    SELECT max(indicatorValue) AS GDP_growth_value, countryName\n    FROM wdi_csv_parquet\n    WHERE indicatorCode \u003d \u0027NY.GDP.MKTP.KD.ZG\u0027\n    GROUP BY countryName\n    ) t2 \nON t1.indicatorValue \u003d t2.GDP_growth_value AND t1.countryName \u003d t2.countryName\nORDER BY GDP_growth_value DESC;\n"
    },
    {
      "cell_type": "code",
      "execution_count": 50,
      "metadata": {
        "autoscroll": "auto"
      },
      "outputs": [],
      "source": "%spark.sql\nSELECT distinct t1.indicatorValue as GDP_growth_value, t1.countryName, t1.year\nFROM wdi_csv_parquet t1\nINNER JOIN (\n    SELECT max(indicatorValue) AS GDP_growth_value, countryName\n    FROM wdi_csv_parquet\n    WHERE indicatorCode \u003d \u0027NY.GDP.MKTP.KD.ZG\u0027\n    GROUP BY countryName\n    ) t2 \nON t1.indicatorValue \u003d t2.GDP_growth_value AND t1.countryName \u003d t2.countryName\nORDER BY GDP_growth_value DESC;"
    },
    {
      "cell_type": "markdown",
      "metadata": {},
      "source": "Hive TEZ query (1 min 37 sec.) is almost twice slower than Spark.SQL (55 sec.)"
    },
    {
      "cell_type": "markdown",
      "metadata": {},
      "source": "# Sort GDP by country and year"
    },
    {
      "cell_type": "code",
      "execution_count": 53,
      "metadata": {
        "autoscroll": "auto"
      },
      "outputs": [],
      "source": "SELECT countryName, year, indicatorCode, indicatorValue\nFROM wdi_csv_parquet\nWHERE indicatorCode \u003d \u0027NY.GDP.MKTP.KD.ZG\u0027\nSORT BY countryName, year"
    }
  ]
}